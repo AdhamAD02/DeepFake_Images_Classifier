{
 "cells": [
  {
   "cell_type": "code",
   "execution_count": 56,
   "metadata": {
    "_cell_guid": "b2ca991b-c0ce-4948-9114-7f2ab26bea1d",
    "_uuid": "d021ba0b-d4b4-45f7-b07b-6256a3ff2d1a",
    "collapsed": false,
    "execution": {
     "iopub.execute_input": "2024-12-21T23:02:25.739525Z",
     "iopub.status.busy": "2024-12-21T23:02:25.739201Z",
     "iopub.status.idle": "2024-12-21T23:02:25.745608Z",
     "shell.execute_reply": "2024-12-21T23:02:25.744690Z",
     "shell.execute_reply.started": "2024-12-21T23:02:25.739497Z"
    },
    "jupyter": {
     "outputs_hidden": false
    },
    "trusted": true
   },
   "outputs": [],
   "source": [
    "import numpy as np\n",
    "import pandas as pd\n",
    "import matplotlib.pyplot as plt\n",
    "import os \n",
    "import cv2 as cv \n",
    "import glob\n",
    "import torch\n",
    "from torch.utils.data import Dataset, DataLoader, WeightedRandomSampler,Subset\n",
    "from torchvision import transforms\n",
    "from IPython.display import HTML\n",
    "from torchvision import transforms\n",
    "from sklearn.model_selection import train_test_split\n",
    "from torchvision  import datasets \n",
    "from sklearn.model_selection import KFold\n",
    "import optuna\n",
    "from optuna.trial import Trial\n",
    "from tqdm import tqdm\n",
    "import torch.optim as optim\n",
    "import torch.nn as nn\n",
    "from torchvision import models\n",
    "from sklearn.metrics import confusion_matrix, accuracy_score, precision_score, recall_score, f1_score\n",
    "from torch.utils.data import Subset, DataLoader"
   ]
  },
  {
   "cell_type": "code",
   "execution_count": 57,
   "metadata": {
    "execution": {
     "iopub.execute_input": "2024-12-21T23:02:26.537287Z",
     "iopub.status.busy": "2024-12-21T23:02:26.536973Z",
     "iopub.status.idle": "2024-12-21T23:02:26.542160Z",
     "shell.execute_reply": "2024-12-21T23:02:26.541213Z",
     "shell.execute_reply.started": "2024-12-21T23:02:26.537259Z"
    },
    "trusted": true
   },
   "outputs": [
    {
     "name": "stdout",
     "output_type": "stream",
     "text": [
      "Using device: cuda\n"
     ]
    }
   ],
   "source": [
    "device = torch.device(\"cuda\" if torch.cuda.is_available() else \"cpu\")\n",
    "print(f\"Using device: {device}\")"
   ]
  },
  {
   "cell_type": "code",
   "execution_count": 58,
   "metadata": {
    "execution": {
     "iopub.execute_input": "2024-12-21T23:02:27.117550Z",
     "iopub.status.busy": "2024-12-21T23:02:27.116822Z",
     "iopub.status.idle": "2024-12-21T23:02:27.120911Z",
     "shell.execute_reply": "2024-12-21T23:02:27.120132Z",
     "shell.execute_reply.started": "2024-12-21T23:02:27.117519Z"
    },
    "trusted": true
   },
   "outputs": [],
   "source": [
    "combined_data = \"/kaggle/input/deepfake-and-real-images/Dataset/Test\""
   ]
  },
  {
   "cell_type": "code",
   "execution_count": 59,
   "metadata": {
    "execution": {
     "iopub.execute_input": "2024-12-21T23:02:27.697303Z",
     "iopub.status.busy": "2024-12-21T23:02:27.697019Z",
     "iopub.status.idle": "2024-12-21T23:02:27.702111Z",
     "shell.execute_reply": "2024-12-21T23:02:27.701055Z",
     "shell.execute_reply.started": "2024-12-21T23:02:27.697276Z"
    },
    "trusted": true
   },
   "outputs": [],
   "source": [
    "transform = transforms.Compose([\n",
    "    transforms.Resize((224, 224)),  # Resize images to 224x224\n",
    "    transforms.ToTensor(),         # Convert to Tensor\n",
    "    transforms.Normalize([0.5, 0.5, 0.5], [0.5, 0.5, 0.5])  # Normalize\n",
    "])"
   ]
  },
  {
   "cell_type": "code",
   "execution_count": 60,
   "metadata": {
    "execution": {
     "iopub.execute_input": "2024-12-21T23:02:30.082391Z",
     "iopub.status.busy": "2024-12-21T23:02:30.082069Z",
     "iopub.status.idle": "2024-12-21T23:02:33.431251Z",
     "shell.execute_reply": "2024-12-21T23:02:33.430313Z",
     "shell.execute_reply.started": "2024-12-21T23:02:30.082362Z"
    },
    "trusted": true
   },
   "outputs": [],
   "source": [
    "combinedData = datasets.ImageFolder(combined_data, transform=transform)"
   ]
  },
  {
   "cell_type": "code",
   "execution_count": 61,
   "metadata": {
    "execution": {
     "iopub.execute_input": "2024-12-21T23:02:33.433530Z",
     "iopub.status.busy": "2024-12-21T23:02:33.432816Z",
     "iopub.status.idle": "2024-12-21T23:02:33.438825Z",
     "shell.execute_reply": "2024-12-21T23:02:33.438035Z",
     "shell.execute_reply.started": "2024-12-21T23:02:33.433485Z"
    },
    "trusted": true
   },
   "outputs": [
    {
     "data": {
      "text/plain": [
       "Dataset ImageFolder\n",
       "    Number of datapoints: 10905\n",
       "    Root location: /kaggle/input/deepfake-and-real-images/Dataset/Test\n",
       "    StandardTransform\n",
       "Transform: Compose(\n",
       "               Resize(size=(224, 224), interpolation=bilinear, max_size=None, antialias=True)\n",
       "               ToTensor()\n",
       "               Normalize(mean=[0.5, 0.5, 0.5], std=[0.5, 0.5, 0.5])\n",
       "           )"
      ]
     },
     "execution_count": 61,
     "metadata": {},
     "output_type": "execute_result"
    }
   ],
   "source": [
    "combinedData"
   ]
  },
  {
   "cell_type": "code",
   "execution_count": 62,
   "metadata": {
    "execution": {
     "iopub.execute_input": "2024-12-21T23:02:37.533454Z",
     "iopub.status.busy": "2024-12-21T23:02:37.533134Z",
     "iopub.status.idle": "2024-12-21T23:02:37.537684Z",
     "shell.execute_reply": "2024-12-21T23:02:37.536759Z",
     "shell.execute_reply.started": "2024-12-21T23:02:37.533425Z"
    },
    "trusted": true
   },
   "outputs": [],
   "source": [
    "kf = KFold(n_splits=3, shuffle=True, random_state=42) "
   ]
  },
  {
   "cell_type": "code",
   "execution_count": 63,
   "metadata": {
    "execution": {
     "iopub.execute_input": "2024-12-21T23:02:38.257584Z",
     "iopub.status.busy": "2024-12-21T23:02:38.256813Z",
     "iopub.status.idle": "2024-12-21T23:02:38.262737Z",
     "shell.execute_reply": "2024-12-21T23:02:38.261792Z",
     "shell.execute_reply.started": "2024-12-21T23:02:38.257551Z"
    },
    "trusted": true
   },
   "outputs": [
    {
     "data": {
      "text/plain": [
       "10905"
      ]
     },
     "execution_count": 63,
     "metadata": {},
     "output_type": "execute_result"
    }
   ],
   "source": [
    "samples = len(combinedData)\n",
    "samples"
   ]
  },
  {
   "cell_type": "code",
   "execution_count": 64,
   "metadata": {
    "execution": {
     "iopub.execute_input": "2024-12-21T23:02:38.817308Z",
     "iopub.status.busy": "2024-12-21T23:02:38.817011Z",
     "iopub.status.idle": "2024-12-21T23:02:38.823453Z",
     "shell.execute_reply": "2024-12-21T23:02:38.822408Z",
     "shell.execute_reply.started": "2024-12-21T23:02:38.817283Z"
    },
    "trusted": true
   },
   "outputs": [],
   "source": [
    "folds = list(kf.split(np.arange(samples)))"
   ]
  },
  {
   "cell_type": "code",
   "execution_count": 65,
   "metadata": {
    "execution": {
     "iopub.execute_input": "2024-12-21T23:02:41.372352Z",
     "iopub.status.busy": "2024-12-21T23:02:41.371720Z",
     "iopub.status.idle": "2024-12-21T23:02:41.378563Z",
     "shell.execute_reply": "2024-12-21T23:02:41.377703Z",
     "shell.execute_reply.started": "2024-12-21T23:02:41.372316Z"
    },
    "trusted": true
   },
   "outputs": [
    {
     "data": {
      "text/plain": [
       "[(array([    1,     2,     4, ..., 10900, 10901, 10902]),\n",
       "  array([    0,     3,     8, ..., 10899, 10903, 10904])),\n",
       " (array([    0,     1,     3, ..., 10902, 10903, 10904]),\n",
       "  array([    2,    15,    18, ..., 10889, 10900, 10901])),\n",
       " (array([    0,     2,     3, ..., 10901, 10903, 10904]),\n",
       "  array([    1,     4,     5, ..., 10896, 10897, 10902]))]"
      ]
     },
     "execution_count": 65,
     "metadata": {},
     "output_type": "execute_result"
    }
   ],
   "source": [
    "folds"
   ]
  },
  {
   "cell_type": "markdown",
   "metadata": {},
   "source": [
    "# Split our data into 3 Kfolds"
   ]
  },
  {
   "cell_type": "code",
   "execution_count": 66,
   "metadata": {
    "execution": {
     "iopub.execute_input": "2024-12-21T23:02:42.572459Z",
     "iopub.status.busy": "2024-12-21T23:02:42.571812Z",
     "iopub.status.idle": "2024-12-21T23:02:42.580891Z",
     "shell.execute_reply": "2024-12-21T23:02:42.580026Z",
     "shell.execute_reply.started": "2024-12-21T23:02:42.572427Z"
    },
    "trusted": true
   },
   "outputs": [
    {
     "name": "stdout",
     "output_type": "stream",
     "text": [
      "Fold 1\n",
      "Train size: 5452\n",
      "Validation size: 1818\n",
      "Test size: 3635\n",
      "Fold 2\n",
      "Train size: 5452\n",
      "Validation size: 1818\n",
      "Test size: 3635\n",
      "Fold 3\n",
      "Train size: 5452\n",
      "Validation size: 1818\n",
      "Test size: 3635\n"
     ]
    }
   ],
   "source": [
    "for fold_idx, (train_val_idx, test_idx) in enumerate(kf.split(np.arange(samples))):\n",
    "    print(f\"Fold {fold_idx + 1}\")\n",
    "    \n",
    "    train_size = int(0.75* len(train_val_idx)) \n",
    "    val_size = len(train_val_idx) - train_size #25\n",
    "    \n",
    "    train_idx = train_val_idx[:train_size]\n",
    "    val_idx = train_val_idx[train_size:]\n",
    "    \n",
    "    # Create subsets\n",
    "    train_set = Subset(combinedData, train_idx)\n",
    "    val_set = Subset(combinedData, val_idx)\n",
    "    test_set = Subset(combinedData, test_idx)\n",
    "    \n",
    "    train_loader = DataLoader(train_set, batch_size=32, shuffle=True)\n",
    "    val_loader = DataLoader(val_set, batch_size=32, shuffle=False)\n",
    "    test_loader = DataLoader(test_set, batch_size=32, shuffle=False)\n",
    "    \n",
    "    print(f\"Train size: {len(train_set)}\")\n",
    "    print(f\"Validation size: {len(val_set)}\")\n",
    "    print(f\"Test size: {len(test_set)}\")"
   ]
  },
  {
   "cell_type": "markdown",
   "metadata": {},
   "source": [
    "# Define our model ResNet-50"
   ]
  },
  {
   "cell_type": "code",
   "execution_count": 67,
   "metadata": {
    "execution": {
     "iopub.execute_input": "2024-12-21T23:02:45.918339Z",
     "iopub.status.busy": "2024-12-21T23:02:45.917552Z",
     "iopub.status.idle": "2024-12-21T23:02:45.922668Z",
     "shell.execute_reply": "2024-12-21T23:02:45.921817Z",
     "shell.execute_reply.started": "2024-12-21T23:02:45.918304Z"
    },
    "trusted": true
   },
   "outputs": [],
   "source": [
    "\n",
    "def get_model(name):\n",
    "    if name==\"resnet-50\":\n",
    "        model= models.resnet50(pretrained=True)\n",
    "        model.fc = nn.Linear(model.fc.in_features, 2)\n",
    "    else:\n",
    "        raise ValueError(\"Model name must be 'alexnet' or 'vgg16'\")\n",
    "    return model"
   ]
  },
  {
   "cell_type": "code",
   "execution_count": null,
   "metadata": {
    "trusted": true
   },
   "outputs": [],
   "source": [
    "# Fine-tune\n",
    "\n",
    "\n",
    "# def get_model(name):\n",
    "#     if name == \"resnet-50\":\n",
    "#         model = models.resnet50(pretrained=True)\n",
    "        \n",
    "#         # Freeze all layers initially\n",
    "#         for param in model.parameters():\n",
    "#             param.requires_grad = False\n",
    "            \n",
    "#         # Unfreeze the final two residual blocks (layer3 and layer4)\n",
    "#         for layer in [model.layer3, model.layer4]:\n",
    "#             for param in layer.parameters():\n",
    "#                 param.requires_grad = True\n",
    "                \n",
    "#         # Unfreeze and modify the final fully connected layer\n",
    "#         model.fc = nn.Linear(model.fc.in_features, 2)\n",
    "        \n",
    "#         # Print layer status\n",
    "#         def count_trainable_params(model):\n",
    "#             return sum(p.numel() for p in model.parameters() if p.requires_grad)\n",
    "            \n",
    "#         print(f\"Total trainable parameters: {count_trainable_params(model):,}\")\n",
    "        \n",
    "#     else:\n",
    "#         raise ValueError(\"Model name must be 'resnet-50'\")\n",
    "    \n",
    "#     return model"
   ]
  },
  {
   "cell_type": "markdown",
   "metadata": {},
   "source": [
    "# Training function"
   ]
  },
  {
   "cell_type": "code",
   "execution_count": 68,
   "metadata": {
    "execution": {
     "iopub.execute_input": "2024-12-21T23:02:50.907304Z",
     "iopub.status.busy": "2024-12-21T23:02:50.906560Z",
     "iopub.status.idle": "2024-12-21T23:02:50.913165Z",
     "shell.execute_reply": "2024-12-21T23:02:50.912268Z",
     "shell.execute_reply.started": "2024-12-21T23:02:50.907271Z"
    },
    "trusted": true
   },
   "outputs": [],
   "source": [
    "def TrainingModels(model, train_loader, criterion, optimizer):\n",
    "    model.train()\n",
    "    running_loss = 0.0\n",
    "    correct = 0\n",
    "    total = 0\n",
    "    for images, labels in tqdm(train_loader, desc=\"Training\", leave=False):\n",
    "        images, labels = images.to(device), labels.to(device)\n",
    "        \n",
    "        outputs = model(images)\n",
    "        loss = criterion(outputs, labels)  #loss function used to compute the error between predictions and true labels\n",
    "        \n",
    "        optimizer.zero_grad()\n",
    "        loss.backward()\n",
    "        optimizer.step()\n",
    "\n",
    "        running_loss += loss.item() * images.size(0)\n",
    "        _, preds = torch.max(outputs, 1) # max score from the scores of two classes\n",
    "        correct += (preds == labels).sum().item()\n",
    "        total += labels.size(0)\n",
    "\n",
    "    epoch_loss = running_loss / total\n",
    "    epoch_acc = correct / total\n",
    "    return epoch_loss, epoch_acc\n",
    "\n",
    "\n"
   ]
  },
  {
   "cell_type": "code",
   "execution_count": 55,
   "metadata": {
    "execution": {
     "iopub.execute_input": "2024-12-21T23:01:02.138517Z",
     "iopub.status.busy": "2024-12-21T23:01:02.137816Z",
     "iopub.status.idle": "2024-12-21T23:01:02.144623Z",
     "shell.execute_reply": "2024-12-21T23:01:02.143744Z",
     "shell.execute_reply.started": "2024-12-21T23:01:02.138485Z"
    },
    "trusted": true
   },
   "outputs": [],
   "source": [
    "# Fine-tune\n",
    "\n",
    "# def TrainingModels(model, train_loader, criterion, optimizer):\n",
    "#     model.train()\n",
    "#     running_loss = 0.0\n",
    "#     correct = 0\n",
    "#     total = 0\n",
    "    \n",
    "#     # Add gradient clipping to prevent exploding gradients\n",
    "#     max_grad_norm = 1.0\n",
    "    \n",
    "#     for images, labels in tqdm(train_loader, desc=\"Training\", leave=False):\n",
    "#         images, labels = images.to(device), labels.to(device)\n",
    "        \n",
    "#         outputs = model(images)\n",
    "#         loss = criterion(outputs, labels)\n",
    "        \n",
    "#         optimizer.zero_grad()\n",
    "#         loss.backward()\n",
    "        \n",
    "#         # Clip gradients\n",
    "#         torch.nn.utils.clip_grad_norm_(model.parameters(), max_grad_norm)\n",
    "        \n",
    "#         optimizer.step()\n",
    "\n",
    "#         running_loss += loss.item() * images.size(0)\n",
    "#         _, preds = torch.max(outputs, 1)\n",
    "#         correct += (preds == labels).sum().item()\n",
    "#         total += labels.size(0)\n",
    "\n",
    "#     epoch_loss = running_loss / total\n",
    "#     epoch_acc = correct / total\n",
    "#     return epoch_loss, epoch_acc"
   ]
  },
  {
   "cell_type": "markdown",
   "metadata": {},
   "source": [
    "# Eval function"
   ]
  },
  {
   "cell_type": "code",
   "execution_count": 69,
   "metadata": {
    "execution": {
     "iopub.execute_input": "2024-12-21T23:02:54.263667Z",
     "iopub.status.busy": "2024-12-21T23:02:54.263025Z",
     "iopub.status.idle": "2024-12-21T23:02:54.269377Z",
     "shell.execute_reply": "2024-12-21T23:02:54.268492Z",
     "shell.execute_reply.started": "2024-12-21T23:02:54.263634Z"
    },
    "trusted": true
   },
   "outputs": [],
   "source": [
    "def evaluate(model, data_loader, criterion):\n",
    "    model.eval()\n",
    "    running_loss = 0.0\n",
    "    correct = 0\n",
    "    total = 0\n",
    "\n",
    "    with torch.no_grad():\n",
    "        for images, labels in tqdm(data_loader, desc=\"Evaluating\", leave=False):\n",
    "            images, labels = images.to(device), labels.to(device)\n",
    "            \n",
    "            outputs = model(images)\n",
    "            loss = criterion(outputs, labels)\n",
    "\n",
    "            running_loss += loss.item() * images.size(0)\n",
    "            _, preds = torch.max(outputs, 1)\n",
    "            correct += (preds == labels).sum().item()\n",
    "            total += labels.size(0)\n",
    "\n",
    "    epoch_loss = running_loss / total\n",
    "    epoch_acc = correct / total\n",
    "    return epoch_loss, epoch_acc"
   ]
  },
  {
   "cell_type": "markdown",
   "metadata": {},
   "source": [
    "# Optimize the Learning rate using Optuna"
   ]
  },
  {
   "cell_type": "code",
   "execution_count": 70,
   "metadata": {
    "execution": {
     "iopub.execute_input": "2024-12-21T23:02:57.125614Z",
     "iopub.status.busy": "2024-12-21T23:02:57.124807Z",
     "iopub.status.idle": "2024-12-21T23:02:57.133684Z",
     "shell.execute_reply": "2024-12-21T23:02:57.132939Z",
     "shell.execute_reply.started": "2024-12-21T23:02:57.125578Z"
    },
    "trusted": true
   },
   "outputs": [],
   "source": [
    "def LR_optimization(trial: Trial):\n",
    "    lr = trial.suggest_loguniform(\"lr\", 1e-5, 1e-2)\n",
    "    \n",
    "    # Iterate over folds\n",
    "    fold_results = []\n",
    "    for fold_idx, (train_val_idx, test_idx) in enumerate(kf.split(np.arange(samples))):\n",
    "        print(f\"\\nFold {fold_idx + 1}\")\n",
    "        \n",
    "        train_size = int(0.75 * len(train_val_idx))\n",
    "        train_idx = train_val_idx[:train_size]\n",
    "        val_idx = train_val_idx[train_size:]\n",
    "\n",
    "        train_set = Subset(combinedData, train_idx)\n",
    "        val_set = Subset(combinedData, val_idx)\n",
    "        test_set = Subset(combinedData, test_idx)\n",
    "\n",
    "        train_loader = DataLoader(train_set, batch_size=32, shuffle=True)\n",
    "        val_loader = DataLoader(val_set, batch_size=32, shuffle=False)\n",
    "        test_loader = DataLoader(test_set, batch_size=32, shuffle=False)\n",
    "\n",
    "        \n",
    "        for model_name in [\"resnet-50\"]:\n",
    "            print(f\"\\nTraining model: {model_name.upper()} on Fold {fold_idx + 1}\")\n",
    "            \n",
    "            # Initialize model\n",
    "            model = get_model(model_name).to(device)\n",
    "            criterion = nn.CrossEntropyLoss()\n",
    "            optimizer = optim.Adam(model.parameters(), lr=lr)\n",
    "\n",
    "            for epoch in range(5):\n",
    "                current_lr = optimizer.param_groups[0][\"lr\"]\n",
    "                print(f\"\\nEpoch {epoch + 1}/5 | Learning Rate: {current_lr:.6f}\")\n",
    "                \n",
    "                # Train and evaluate\n",
    "                train_loss, train_acc = TrainingModels(model, train_loader, criterion, optimizer)\n",
    "                val_loss, val_acc = evaluate(model, val_loader, criterion)\n",
    "\n",
    "                print(f\"Train Loss: {train_loss:.4f}, Train Acc: {train_acc:.4f}\")\n",
    "                print(f\"Val Loss: {val_loss:.4f}, Val Acc: {val_acc:.4f}\")\n",
    "            \n",
    "            _, val_acc = evaluate(model, val_loader, criterion)\n",
    "            fold_results.append(val_acc) \n",
    "\n",
    "    mean_val_acc = sum(fold_results) / len(fold_results)\n",
    "    return mean_val_acc\n",
    "\n"
   ]
  },
  {
   "cell_type": "code",
   "execution_count": null,
   "metadata": {
    "trusted": true
   },
   "outputs": [],
   "source": [
    "# Fine-tune\n",
    "\n",
    "# def LR_optimization(trial: Trial):\n",
    "#     # Use a smaller learning rate range for fine-tuning\n",
    "#     lr = trial.suggest_loguniform(\"lr\", 1e-6, 1e-3)\n",
    "    \n",
    "#     # Rest of the function remains the same\n",
    "#     fold_results = []\n",
    "#     for fold_idx, (train_val_idx, test_idx) in enumerate(kf.split(np.arange(samples))):\n",
    "#         print(f\"\\nFold {fold_idx + 1}\")\n",
    "        \n",
    "#         train_size = int(0.75 * len(train_val_idx))\n",
    "#         train_idx = train_val_idx[:train_size]\n",
    "#         val_idx = train_val_idx[train_size:]\n",
    "\n",
    "#         train_set = Subset(combinedData, train_idx)\n",
    "#         val_set = Subset(combinedData, val_idx)\n",
    "#         test_set = Subset(combinedData, test_idx)\n",
    "\n",
    "#         train_loader = DataLoader(train_set, batch_size=32, shuffle=True)\n",
    "#         val_loader = DataLoader(val_set, batch_size=32, shuffle=False)\n",
    "#         test_loader = DataLoader(test_set, batch_size=32, shuffle=False)\n",
    "\n",
    "#         for model_name in [\"resnet-50\"]:\n",
    "#             print(f\"\\nFine-tuning model: {model_name.upper()} on Fold {fold_idx + 1}\")\n",
    "            \n",
    "#             model = get_model(model_name).to(device)\n",
    "#             criterion = nn.CrossEntropyLoss()\n",
    "            \n",
    "#             # Use a smaller weight decay for fine-tuning\n",
    "#             optimizer = optim.Adam(model.parameters(), lr=lr, weight_decay=1e-5)\n",
    "            \n",
    "#             # Add learning rate scheduler for fine-tuning\n",
    "#             scheduler = optim.lr_scheduler.ReduceLROnPlateau(\n",
    "#                 optimizer, mode='max', factor=0.5, patience=2, verbose=True\n",
    "#             )\n",
    "\n",
    "#             for epoch in range(5):\n",
    "#                 current_lr = optimizer.param_groups[0][\"lr\"]\n",
    "#                 print(f\"\\nEpoch {epoch + 1}/5 | Learning Rate: {current_lr:.6f}\")\n",
    "                \n",
    "#                 train_loss, train_acc = TrainingModels(model, train_loader, criterion, optimizer)\n",
    "#                 val_loss, val_acc = evaluate(model, val_loader, criterion)\n",
    "                \n",
    "#                 # Update learning rate based on validation accuracy\n",
    "#                 scheduler.step(val_acc)\n",
    "\n",
    "#                 print(f\"Train Loss: {train_loss:.4f}, Train Acc: {train_acc:.4f}\")\n",
    "#                 print(f\"Val Loss: {val_loss:.4f}, Val Acc: {val_acc:.4f}\")\n",
    "            \n",
    "#             _, val_acc = evaluate(model, val_loader, criterion)\n",
    "#             fold_results.append(val_acc)\n",
    "\n",
    "#     mean_val_acc = sum(fold_results) / len(fold_results)\n",
    "#     return mean_val_acc"
   ]
  },
  {
   "cell_type": "code",
   "execution_count": 71,
   "metadata": {
    "execution": {
     "iopub.execute_input": "2024-12-21T23:03:01.207341Z",
     "iopub.status.busy": "2024-12-21T23:03:01.206668Z",
     "iopub.status.idle": "2024-12-22T00:40:23.567189Z",
     "shell.execute_reply": "2024-12-22T00:40:23.566337Z",
     "shell.execute_reply.started": "2024-12-21T23:03:01.207306Z"
    },
    "trusted": true
   },
   "outputs": [
    {
     "name": "stderr",
     "output_type": "stream",
     "text": [
      "[I 2024-12-21 23:03:01,208] A new study created in memory with name: no-name-ac2f202a-166d-40e5-81ec-eb4c3bdb5f0b\n",
      "/tmp/ipykernel_30/3234300370.py:2: FutureWarning: suggest_loguniform has been deprecated in v3.0.0. This feature will be removed in v6.0.0. See https://github.com/optuna/optuna/releases/tag/v3.0.0. Use suggest_float(..., log=True) instead.\n",
      "  lr = trial.suggest_loguniform(\"lr\", 1e-5, 1e-2)\n",
      "/opt/conda/lib/python3.10/site-packages/torchvision/models/_utils.py:208: UserWarning: The parameter 'pretrained' is deprecated since 0.13 and may be removed in the future, please use 'weights' instead.\n",
      "  warnings.warn(\n",
      "/opt/conda/lib/python3.10/site-packages/torchvision/models/_utils.py:223: UserWarning: Arguments other than a weight enum or `None` for 'weights' are deprecated since 0.13 and may be removed in the future. The current behavior is equivalent to passing `weights=ResNet50_Weights.IMAGENET1K_V1`. You can also use `weights=ResNet50_Weights.DEFAULT` to get the most up-to-date weights.\n",
      "  warnings.warn(msg)\n"
     ]
    },
    {
     "name": "stdout",
     "output_type": "stream",
     "text": [
      "\n",
      "Fold 1\n",
      "\n",
      "Training model: RESNET-50 on Fold 1\n",
      "\n",
      "Epoch 1/5 | Learning Rate: 0.000076\n"
     ]
    },
    {
     "name": "stderr",
     "output_type": "stream",
     "text": [
      "                                                           \r"
     ]
    },
    {
     "name": "stdout",
     "output_type": "stream",
     "text": [
      "Train Loss: 0.2955, Train Acc: 0.8661\n",
      "Val Loss: 0.3135, Val Acc: 0.8614\n",
      "\n",
      "Epoch 2/5 | Learning Rate: 0.000076\n"
     ]
    },
    {
     "name": "stderr",
     "output_type": "stream",
     "text": [
      "                                                           \r"
     ]
    },
    {
     "name": "stdout",
     "output_type": "stream",
     "text": [
      "Train Loss: 0.0878, Train Acc: 0.9661\n",
      "Val Loss: 0.6742, Val Acc: 0.7536\n",
      "\n",
      "Epoch 3/5 | Learning Rate: 0.000076\n"
     ]
    },
    {
     "name": "stderr",
     "output_type": "stream",
     "text": [
      "                                                           \r"
     ]
    },
    {
     "name": "stdout",
     "output_type": "stream",
     "text": [
      "Train Loss: 0.0408, Train Acc: 0.9866\n",
      "Val Loss: 0.2150, Val Acc: 0.9213\n",
      "\n",
      "Epoch 4/5 | Learning Rate: 0.000076\n"
     ]
    },
    {
     "name": "stderr",
     "output_type": "stream",
     "text": [
      "                                                           \r"
     ]
    },
    {
     "name": "stdout",
     "output_type": "stream",
     "text": [
      "Train Loss: 0.0153, Train Acc: 0.9960\n",
      "Val Loss: 0.5664, Val Acc: 0.8597\n",
      "\n",
      "Epoch 5/5 | Learning Rate: 0.000076\n"
     ]
    },
    {
     "name": "stderr",
     "output_type": "stream",
     "text": [
      "                                                           \r"
     ]
    },
    {
     "name": "stdout",
     "output_type": "stream",
     "text": [
      "Train Loss: 0.0289, Train Acc: 0.9901\n",
      "Val Loss: 0.4280, Val Acc: 0.8823\n"
     ]
    },
    {
     "name": "stderr",
     "output_type": "stream",
     "text": [
      "                                                           \r"
     ]
    },
    {
     "name": "stdout",
     "output_type": "stream",
     "text": [
      "\n",
      "Fold 2\n",
      "\n",
      "Training model: RESNET-50 on Fold 2\n",
      "\n",
      "Epoch 1/5 | Learning Rate: 0.000076\n"
     ]
    },
    {
     "name": "stderr",
     "output_type": "stream",
     "text": [
      "                                                           \r"
     ]
    },
    {
     "name": "stdout",
     "output_type": "stream",
     "text": [
      "Train Loss: 0.2890, Train Acc: 0.8734\n",
      "Val Loss: 0.2639, Val Acc: 0.8735\n",
      "\n",
      "Epoch 2/5 | Learning Rate: 0.000076\n"
     ]
    },
    {
     "name": "stderr",
     "output_type": "stream",
     "text": [
      "                                                           \r"
     ]
    },
    {
     "name": "stdout",
     "output_type": "stream",
     "text": [
      "Train Loss: 0.0790, Train Acc: 0.9721\n",
      "Val Loss: 0.4227, Val Acc: 0.8377\n",
      "\n",
      "Epoch 3/5 | Learning Rate: 0.000076\n"
     ]
    },
    {
     "name": "stderr",
     "output_type": "stream",
     "text": [
      "                                                           \r"
     ]
    },
    {
     "name": "stdout",
     "output_type": "stream",
     "text": [
      "Train Loss: 0.0418, Train Acc: 0.9851\n",
      "Val Loss: 0.5289, Val Acc: 0.8427\n",
      "\n",
      "Epoch 4/5 | Learning Rate: 0.000076\n"
     ]
    },
    {
     "name": "stderr",
     "output_type": "stream",
     "text": [
      "                                                           \r"
     ]
    },
    {
     "name": "stdout",
     "output_type": "stream",
     "text": [
      "Train Loss: 0.0288, Train Acc: 0.9910\n",
      "Val Loss: 0.4800, Val Acc: 0.8625\n",
      "\n",
      "Epoch 5/5 | Learning Rate: 0.000076\n"
     ]
    },
    {
     "name": "stderr",
     "output_type": "stream",
     "text": [
      "                                                           \r"
     ]
    },
    {
     "name": "stdout",
     "output_type": "stream",
     "text": [
      "Train Loss: 0.0235, Train Acc: 0.9928\n",
      "Val Loss: 0.8949, Val Acc: 0.7662\n"
     ]
    },
    {
     "name": "stderr",
     "output_type": "stream",
     "text": [
      "                                                           \r"
     ]
    },
    {
     "name": "stdout",
     "output_type": "stream",
     "text": [
      "\n",
      "Fold 3\n",
      "\n",
      "Training model: RESNET-50 on Fold 3\n",
      "\n",
      "Epoch 1/5 | Learning Rate: 0.000076\n"
     ]
    },
    {
     "name": "stderr",
     "output_type": "stream",
     "text": [
      "                                                           \r"
     ]
    },
    {
     "name": "stdout",
     "output_type": "stream",
     "text": [
      "Train Loss: 0.2905, Train Acc: 0.8670\n",
      "Val Loss: 0.4853, Val Acc: 0.7871\n",
      "\n",
      "Epoch 2/5 | Learning Rate: 0.000076\n"
     ]
    },
    {
     "name": "stderr",
     "output_type": "stream",
     "text": [
      "                                                           \r"
     ]
    },
    {
     "name": "stdout",
     "output_type": "stream",
     "text": [
      "Train Loss: 0.0773, Train Acc: 0.9716\n",
      "Val Loss: 0.4018, Val Acc: 0.8493\n",
      "\n",
      "Epoch 3/5 | Learning Rate: 0.000076\n"
     ]
    },
    {
     "name": "stderr",
     "output_type": "stream",
     "text": [
      "                                                           \r"
     ]
    },
    {
     "name": "stdout",
     "output_type": "stream",
     "text": [
      "Train Loss: 0.0526, Train Acc: 0.9817\n",
      "Val Loss: 0.5798, Val Acc: 0.8212\n",
      "\n",
      "Epoch 4/5 | Learning Rate: 0.000076\n"
     ]
    },
    {
     "name": "stderr",
     "output_type": "stream",
     "text": [
      "                                                           \r"
     ]
    },
    {
     "name": "stdout",
     "output_type": "stream",
     "text": [
      "Train Loss: 0.0470, Train Acc: 0.9840\n",
      "Val Loss: 0.5826, Val Acc: 0.8542\n",
      "\n",
      "Epoch 5/5 | Learning Rate: 0.000076\n"
     ]
    },
    {
     "name": "stderr",
     "output_type": "stream",
     "text": [
      "                                                           \r"
     ]
    },
    {
     "name": "stdout",
     "output_type": "stream",
     "text": [
      "Train Loss: 0.0206, Train Acc: 0.9921\n",
      "Val Loss: 0.6689, Val Acc: 0.8174\n"
     ]
    },
    {
     "name": "stderr",
     "output_type": "stream",
     "text": [
      "[I 2024-12-21 23:22:30,869] Trial 0 finished with value: 0.821965529886322 and parameters: {'lr': 7.59098735552627e-05}. Best is trial 0 with value: 0.821965529886322.\n"
     ]
    },
    {
     "name": "stdout",
     "output_type": "stream",
     "text": [
      "\n",
      "Fold 1\n",
      "\n",
      "Training model: RESNET-50 on Fold 1\n",
      "\n",
      "Epoch 1/5 | Learning Rate: 0.000444\n"
     ]
    },
    {
     "name": "stderr",
     "output_type": "stream",
     "text": [
      "                                                           \r"
     ]
    },
    {
     "name": "stdout",
     "output_type": "stream",
     "text": [
      "Train Loss: 0.3209, Train Acc: 0.8610\n",
      "Val Loss: 0.2517, Val Acc: 0.9087\n",
      "\n",
      "Epoch 2/5 | Learning Rate: 0.000444\n"
     ]
    },
    {
     "name": "stderr",
     "output_type": "stream",
     "text": [
      "                                                           \r"
     ]
    },
    {
     "name": "stdout",
     "output_type": "stream",
     "text": [
      "Train Loss: 0.1836, Train Acc: 0.9274\n",
      "Val Loss: 0.3076, Val Acc: 0.8707\n",
      "\n",
      "Epoch 3/5 | Learning Rate: 0.000444\n"
     ]
    },
    {
     "name": "stderr",
     "output_type": "stream",
     "text": [
      "                                                           \r"
     ]
    },
    {
     "name": "stdout",
     "output_type": "stream",
     "text": [
      "Train Loss: 0.1245, Train Acc: 0.9516\n",
      "Val Loss: 0.4491, Val Acc: 0.8102\n",
      "\n",
      "Epoch 4/5 | Learning Rate: 0.000444\n"
     ]
    },
    {
     "name": "stderr",
     "output_type": "stream",
     "text": [
      "                                                           \r"
     ]
    },
    {
     "name": "stdout",
     "output_type": "stream",
     "text": [
      "Train Loss: 0.0898, Train Acc: 0.9670\n",
      "Val Loss: 1.2272, Val Acc: 0.6227\n",
      "\n",
      "Epoch 5/5 | Learning Rate: 0.000444\n"
     ]
    },
    {
     "name": "stderr",
     "output_type": "stream",
     "text": [
      "                                                           \r"
     ]
    },
    {
     "name": "stdout",
     "output_type": "stream",
     "text": [
      "Train Loss: 0.0790, Train Acc: 0.9708\n",
      "Val Loss: 0.3575, Val Acc: 0.8575\n"
     ]
    },
    {
     "name": "stderr",
     "output_type": "stream",
     "text": [
      "                                                           \r"
     ]
    },
    {
     "name": "stdout",
     "output_type": "stream",
     "text": [
      "\n",
      "Fold 2\n",
      "\n",
      "Training model: RESNET-50 on Fold 2\n",
      "\n",
      "Epoch 1/5 | Learning Rate: 0.000444\n"
     ]
    },
    {
     "name": "stderr",
     "output_type": "stream",
     "text": [
      "                                                           \r"
     ]
    },
    {
     "name": "stdout",
     "output_type": "stream",
     "text": [
      "Train Loss: 0.3298, Train Acc: 0.8599\n",
      "Val Loss: 0.5063, Val Acc: 0.7761\n",
      "\n",
      "Epoch 2/5 | Learning Rate: 0.000444\n"
     ]
    },
    {
     "name": "stderr",
     "output_type": "stream",
     "text": [
      "                                                           \r"
     ]
    },
    {
     "name": "stdout",
     "output_type": "stream",
     "text": [
      "Train Loss: 0.1839, Train Acc: 0.9257\n",
      "Val Loss: 0.3413, Val Acc: 0.8443\n",
      "\n",
      "Epoch 3/5 | Learning Rate: 0.000444\n"
     ]
    },
    {
     "name": "stderr",
     "output_type": "stream",
     "text": [
      "                                                           \r"
     ]
    },
    {
     "name": "stdout",
     "output_type": "stream",
     "text": [
      "Train Loss: 0.1172, Train Acc: 0.9538\n",
      "Val Loss: 0.2378, Val Acc: 0.8955\n",
      "\n",
      "Epoch 4/5 | Learning Rate: 0.000444\n"
     ]
    },
    {
     "name": "stderr",
     "output_type": "stream",
     "text": [
      "                                                           \r"
     ]
    },
    {
     "name": "stdout",
     "output_type": "stream",
     "text": [
      "Train Loss: 0.1076, Train Acc: 0.9584\n",
      "Val Loss: 1.1766, Val Acc: 0.6491\n",
      "\n",
      "Epoch 5/5 | Learning Rate: 0.000444\n"
     ]
    },
    {
     "name": "stderr",
     "output_type": "stream",
     "text": [
      "                                                           \r"
     ]
    },
    {
     "name": "stdout",
     "output_type": "stream",
     "text": [
      "Train Loss: 0.0776, Train Acc: 0.9708\n",
      "Val Loss: 0.7236, Val Acc: 0.7613\n"
     ]
    },
    {
     "name": "stderr",
     "output_type": "stream",
     "text": [
      "                                                           \r"
     ]
    },
    {
     "name": "stdout",
     "output_type": "stream",
     "text": [
      "\n",
      "Fold 3\n",
      "\n",
      "Training model: RESNET-50 on Fold 3\n",
      "\n",
      "Epoch 1/5 | Learning Rate: 0.000444\n"
     ]
    },
    {
     "name": "stderr",
     "output_type": "stream",
     "text": [
      "                                                           \r"
     ]
    },
    {
     "name": "stdout",
     "output_type": "stream",
     "text": [
      "Train Loss: 0.3300, Train Acc: 0.8571\n",
      "Val Loss: 0.2005, Val Acc: 0.8861\n",
      "\n",
      "Epoch 2/5 | Learning Rate: 0.000444\n"
     ]
    },
    {
     "name": "stderr",
     "output_type": "stream",
     "text": [
      "                                                           \r"
     ]
    },
    {
     "name": "stdout",
     "output_type": "stream",
     "text": [
      "Train Loss: 0.1741, Train Acc: 0.9277\n",
      "Val Loss: 0.6123, Val Acc: 0.7316\n",
      "\n",
      "Epoch 3/5 | Learning Rate: 0.000444\n"
     ]
    },
    {
     "name": "stderr",
     "output_type": "stream",
     "text": [
      "                                                           \r"
     ]
    },
    {
     "name": "stdout",
     "output_type": "stream",
     "text": [
      "Train Loss: 0.1281, Train Acc: 0.9481\n",
      "Val Loss: 0.2211, Val Acc: 0.9054\n",
      "\n",
      "Epoch 4/5 | Learning Rate: 0.000444\n"
     ]
    },
    {
     "name": "stderr",
     "output_type": "stream",
     "text": [
      "                                                           \r"
     ]
    },
    {
     "name": "stdout",
     "output_type": "stream",
     "text": [
      "Train Loss: 0.0988, Train Acc: 0.9633\n",
      "Val Loss: 0.4091, Val Acc: 0.8658\n",
      "\n",
      "Epoch 5/5 | Learning Rate: 0.000444\n"
     ]
    },
    {
     "name": "stderr",
     "output_type": "stream",
     "text": [
      "                                                           \r"
     ]
    },
    {
     "name": "stdout",
     "output_type": "stream",
     "text": [
      "Train Loss: 0.0798, Train Acc: 0.9690\n",
      "Val Loss: 0.3772, Val Acc: 0.8735\n"
     ]
    },
    {
     "name": "stderr",
     "output_type": "stream",
     "text": [
      "[I 2024-12-21 23:41:57,841] Trial 1 finished with value: 0.8307664099743307 and parameters: {'lr': 0.00044411166582366987}. Best is trial 1 with value: 0.8307664099743307.\n"
     ]
    },
    {
     "name": "stdout",
     "output_type": "stream",
     "text": [
      "\n",
      "Fold 1\n",
      "\n",
      "Training model: RESNET-50 on Fold 1\n",
      "\n",
      "Epoch 1/5 | Learning Rate: 0.000025\n"
     ]
    },
    {
     "name": "stderr",
     "output_type": "stream",
     "text": [
      "                                                           \r"
     ]
    },
    {
     "name": "stdout",
     "output_type": "stream",
     "text": [
      "Train Loss: 0.3760, Train Acc: 0.8232\n",
      "Val Loss: 0.4697, Val Acc: 0.7756\n",
      "\n",
      "Epoch 2/5 | Learning Rate: 0.000025\n"
     ]
    },
    {
     "name": "stderr",
     "output_type": "stream",
     "text": [
      "                                                           \r"
     ]
    },
    {
     "name": "stdout",
     "output_type": "stream",
     "text": [
      "Train Loss: 0.1075, Train Acc: 0.9640\n",
      "Val Loss: 0.3314, Val Acc: 0.8663\n",
      "\n",
      "Epoch 3/5 | Learning Rate: 0.000025\n"
     ]
    },
    {
     "name": "stderr",
     "output_type": "stream",
     "text": [
      "                                                           \r"
     ]
    },
    {
     "name": "stdout",
     "output_type": "stream",
     "text": [
      "Train Loss: 0.0288, Train Acc: 0.9919\n",
      "Val Loss: 0.4878, Val Acc: 0.8537\n",
      "\n",
      "Epoch 4/5 | Learning Rate: 0.000025\n"
     ]
    },
    {
     "name": "stderr",
     "output_type": "stream",
     "text": [
      "                                                           \r"
     ]
    },
    {
     "name": "stdout",
     "output_type": "stream",
     "text": [
      "Train Loss: 0.0142, Train Acc: 0.9956\n",
      "Val Loss: 0.6693, Val Acc: 0.8333\n",
      "\n",
      "Epoch 5/5 | Learning Rate: 0.000025\n"
     ]
    },
    {
     "name": "stderr",
     "output_type": "stream",
     "text": [
      "                                                           \r"
     ]
    },
    {
     "name": "stdout",
     "output_type": "stream",
     "text": [
      "Train Loss: 0.0190, Train Acc: 0.9941\n",
      "Val Loss: 0.7582, Val Acc: 0.8328\n"
     ]
    },
    {
     "name": "stderr",
     "output_type": "stream",
     "text": [
      "                                                           \r"
     ]
    },
    {
     "name": "stdout",
     "output_type": "stream",
     "text": [
      "\n",
      "Fold 2\n",
      "\n",
      "Training model: RESNET-50 on Fold 2\n",
      "\n",
      "Epoch 1/5 | Learning Rate: 0.000025\n"
     ]
    },
    {
     "name": "stderr",
     "output_type": "stream",
     "text": [
      "                                                           \r"
     ]
    },
    {
     "name": "stdout",
     "output_type": "stream",
     "text": [
      "Train Loss: 0.3761, Train Acc: 0.8166\n",
      "Val Loss: 0.5170, Val Acc: 0.7085\n",
      "\n",
      "Epoch 2/5 | Learning Rate: 0.000025\n"
     ]
    },
    {
     "name": "stderr",
     "output_type": "stream",
     "text": [
      "                                                           \r"
     ]
    },
    {
     "name": "stdout",
     "output_type": "stream",
     "text": [
      "Train Loss: 0.1067, Train Acc: 0.9611\n",
      "Val Loss: 0.4690, Val Acc: 0.7772\n",
      "\n",
      "Epoch 3/5 | Learning Rate: 0.000025\n"
     ]
    },
    {
     "name": "stderr",
     "output_type": "stream",
     "text": [
      "                                                           \r"
     ]
    },
    {
     "name": "stdout",
     "output_type": "stream",
     "text": [
      "Train Loss: 0.0369, Train Acc: 0.9888\n",
      "Val Loss: 0.5620, Val Acc: 0.8020\n",
      "\n",
      "Epoch 4/5 | Learning Rate: 0.000025\n"
     ]
    },
    {
     "name": "stderr",
     "output_type": "stream",
     "text": [
      "                                                           \r"
     ]
    },
    {
     "name": "stdout",
     "output_type": "stream",
     "text": [
      "Train Loss: 0.0150, Train Acc: 0.9963\n",
      "Val Loss: 0.4621, Val Acc: 0.8647\n",
      "\n",
      "Epoch 5/5 | Learning Rate: 0.000025\n"
     ]
    },
    {
     "name": "stderr",
     "output_type": "stream",
     "text": [
      "                                                           \r"
     ]
    },
    {
     "name": "stdout",
     "output_type": "stream",
     "text": [
      "Train Loss: 0.0170, Train Acc: 0.9947\n",
      "Val Loss: 0.6722, Val Acc: 0.7827\n"
     ]
    },
    {
     "name": "stderr",
     "output_type": "stream",
     "text": [
      "                                                           \r"
     ]
    },
    {
     "name": "stdout",
     "output_type": "stream",
     "text": [
      "\n",
      "Fold 3\n",
      "\n",
      "Training model: RESNET-50 on Fold 3\n",
      "\n",
      "Epoch 1/5 | Learning Rate: 0.000025\n"
     ]
    },
    {
     "name": "stderr",
     "output_type": "stream",
     "text": [
      "                                                           \r"
     ]
    },
    {
     "name": "stdout",
     "output_type": "stream",
     "text": [
      "Train Loss: 0.3716, Train Acc: 0.8278\n",
      "Val Loss: 0.5501, Val Acc: 0.7327\n",
      "\n",
      "Epoch 2/5 | Learning Rate: 0.000025\n"
     ]
    },
    {
     "name": "stderr",
     "output_type": "stream",
     "text": [
      "                                                           \r"
     ]
    },
    {
     "name": "stdout",
     "output_type": "stream",
     "text": [
      "Train Loss: 0.1044, Train Acc: 0.9642\n",
      "Val Loss: 0.4665, Val Acc: 0.8036\n",
      "\n",
      "Epoch 3/5 | Learning Rate: 0.000025\n"
     ]
    },
    {
     "name": "stderr",
     "output_type": "stream",
     "text": [
      "                                                           \r"
     ]
    },
    {
     "name": "stdout",
     "output_type": "stream",
     "text": [
      "Train Loss: 0.0289, Train Acc: 0.9923\n",
      "Val Loss: 0.6631, Val Acc: 0.7712\n",
      "\n",
      "Epoch 4/5 | Learning Rate: 0.000025\n"
     ]
    },
    {
     "name": "stderr",
     "output_type": "stream",
     "text": [
      "                                                           \r"
     ]
    },
    {
     "name": "stdout",
     "output_type": "stream",
     "text": [
      "Train Loss: 0.0203, Train Acc: 0.9958\n",
      "Val Loss: 0.6464, Val Acc: 0.8135\n",
      "\n",
      "Epoch 5/5 | Learning Rate: 0.000025\n"
     ]
    },
    {
     "name": "stderr",
     "output_type": "stream",
     "text": [
      "                                                           \r"
     ]
    },
    {
     "name": "stdout",
     "output_type": "stream",
     "text": [
      "Train Loss: 0.0162, Train Acc: 0.9954\n",
      "Val Loss: 1.0078, Val Acc: 0.7827\n"
     ]
    },
    {
     "name": "stderr",
     "output_type": "stream",
     "text": [
      "[I 2024-12-22 00:01:27,678] Trial 2 finished with value: 0.7994132746607994 and parameters: {'lr': 2.54178910198913e-05}. Best is trial 1 with value: 0.8307664099743307.\n"
     ]
    },
    {
     "name": "stdout",
     "output_type": "stream",
     "text": [
      "\n",
      "Fold 1\n",
      "\n",
      "Training model: RESNET-50 on Fold 1\n",
      "\n",
      "Epoch 1/5 | Learning Rate: 0.000626\n"
     ]
    },
    {
     "name": "stderr",
     "output_type": "stream",
     "text": [
      "                                                           \r"
     ]
    },
    {
     "name": "stdout",
     "output_type": "stream",
     "text": [
      "Train Loss: 0.3590, Train Acc: 0.8456\n",
      "Val Loss: 0.5937, Val Acc: 0.7959\n",
      "\n",
      "Epoch 2/5 | Learning Rate: 0.000626\n"
     ]
    },
    {
     "name": "stderr",
     "output_type": "stream",
     "text": [
      "                                                           \r"
     ]
    },
    {
     "name": "stdout",
     "output_type": "stream",
     "text": [
      "Train Loss: 0.2191, Train Acc: 0.9143\n",
      "Val Loss: 0.6486, Val Acc: 0.6722\n",
      "\n",
      "Epoch 3/5 | Learning Rate: 0.000626\n"
     ]
    },
    {
     "name": "stderr",
     "output_type": "stream",
     "text": [
      "                                                           \r"
     ]
    },
    {
     "name": "stdout",
     "output_type": "stream",
     "text": [
      "Train Loss: 0.1432, Train Acc: 0.9444\n",
      "Val Loss: 0.4013, Val Acc: 0.8124\n",
      "\n",
      "Epoch 4/5 | Learning Rate: 0.000626\n"
     ]
    },
    {
     "name": "stderr",
     "output_type": "stream",
     "text": [
      "                                                           \r"
     ]
    },
    {
     "name": "stdout",
     "output_type": "stream",
     "text": [
      "Train Loss: 0.1258, Train Acc: 0.9501\n",
      "Val Loss: 0.3739, Val Acc: 0.8064\n",
      "\n",
      "Epoch 5/5 | Learning Rate: 0.000626\n"
     ]
    },
    {
     "name": "stderr",
     "output_type": "stream",
     "text": [
      "                                                           \r"
     ]
    },
    {
     "name": "stdout",
     "output_type": "stream",
     "text": [
      "Train Loss: 0.1085, Train Acc: 0.9562\n",
      "Val Loss: 0.2339, Val Acc: 0.9191\n"
     ]
    },
    {
     "name": "stderr",
     "output_type": "stream",
     "text": [
      "                                                           \r"
     ]
    },
    {
     "name": "stdout",
     "output_type": "stream",
     "text": [
      "\n",
      "Fold 2\n",
      "\n",
      "Training model: RESNET-50 on Fold 2\n",
      "\n",
      "Epoch 1/5 | Learning Rate: 0.000626\n"
     ]
    },
    {
     "name": "stderr",
     "output_type": "stream",
     "text": [
      "                                                           \r"
     ]
    },
    {
     "name": "stdout",
     "output_type": "stream",
     "text": [
      "Train Loss: 0.3858, Train Acc: 0.8230\n",
      "Val Loss: 0.4771, Val Acc: 0.7849\n",
      "\n",
      "Epoch 2/5 | Learning Rate: 0.000626\n"
     ]
    },
    {
     "name": "stderr",
     "output_type": "stream",
     "text": [
      "                                                           \r"
     ]
    },
    {
     "name": "stdout",
     "output_type": "stream",
     "text": [
      "Train Loss: 0.2043, Train Acc: 0.9175\n",
      "Val Loss: 0.3042, Val Acc: 0.8696\n",
      "\n",
      "Epoch 3/5 | Learning Rate: 0.000626\n"
     ]
    },
    {
     "name": "stderr",
     "output_type": "stream",
     "text": [
      "                                                           \r"
     ]
    },
    {
     "name": "stdout",
     "output_type": "stream",
     "text": [
      "Train Loss: 0.1487, Train Acc: 0.9395\n",
      "Val Loss: 0.4895, Val Acc: 0.8333\n",
      "\n",
      "Epoch 4/5 | Learning Rate: 0.000626\n"
     ]
    },
    {
     "name": "stderr",
     "output_type": "stream",
     "text": [
      "                                                           \r"
     ]
    },
    {
     "name": "stdout",
     "output_type": "stream",
     "text": [
      "Train Loss: 0.1191, Train Acc: 0.9530\n",
      "Val Loss: 0.4966, Val Acc: 0.8020\n",
      "\n",
      "Epoch 5/5 | Learning Rate: 0.000626\n"
     ]
    },
    {
     "name": "stderr",
     "output_type": "stream",
     "text": [
      "                                                           \r"
     ]
    },
    {
     "name": "stdout",
     "output_type": "stream",
     "text": [
      "Train Loss: 0.0851, Train Acc: 0.9690\n",
      "Val Loss: 0.3538, Val Acc: 0.8564\n"
     ]
    },
    {
     "name": "stderr",
     "output_type": "stream",
     "text": [
      "                                                           \r"
     ]
    },
    {
     "name": "stdout",
     "output_type": "stream",
     "text": [
      "\n",
      "Fold 3\n",
      "\n",
      "Training model: RESNET-50 on Fold 3\n",
      "\n",
      "Epoch 1/5 | Learning Rate: 0.000626\n"
     ]
    },
    {
     "name": "stderr",
     "output_type": "stream",
     "text": [
      "                                                           \r"
     ]
    },
    {
     "name": "stdout",
     "output_type": "stream",
     "text": [
      "Train Loss: 0.3718, Train Acc: 0.8353\n",
      "Val Loss: 0.4157, Val Acc: 0.8064\n",
      "\n",
      "Epoch 2/5 | Learning Rate: 0.000626\n"
     ]
    },
    {
     "name": "stderr",
     "output_type": "stream",
     "text": [
      "                                                           \r"
     ]
    },
    {
     "name": "stdout",
     "output_type": "stream",
     "text": [
      "Train Loss: 0.2194, Train Acc: 0.9105\n",
      "Val Loss: 0.2555, Val Acc: 0.9004\n",
      "\n",
      "Epoch 3/5 | Learning Rate: 0.000626\n"
     ]
    },
    {
     "name": "stderr",
     "output_type": "stream",
     "text": [
      "                                                           \r"
     ]
    },
    {
     "name": "stdout",
     "output_type": "stream",
     "text": [
      "Train Loss: 0.1591, Train Acc: 0.9354\n",
      "Val Loss: 0.7495, Val Acc: 0.6381\n",
      "\n",
      "Epoch 4/5 | Learning Rate: 0.000626\n"
     ]
    },
    {
     "name": "stderr",
     "output_type": "stream",
     "text": [
      "                                                           \r"
     ]
    },
    {
     "name": "stdout",
     "output_type": "stream",
     "text": [
      "Train Loss: 0.1273, Train Acc: 0.9483\n",
      "Val Loss: 0.5267, Val Acc: 0.7558\n",
      "\n",
      "Epoch 5/5 | Learning Rate: 0.000626\n"
     ]
    },
    {
     "name": "stderr",
     "output_type": "stream",
     "text": [
      "                                                           \r"
     ]
    },
    {
     "name": "stdout",
     "output_type": "stream",
     "text": [
      "Train Loss: 0.1092, Train Acc: 0.9569\n",
      "Val Loss: 0.5455, Val Acc: 0.7981\n"
     ]
    },
    {
     "name": "stderr",
     "output_type": "stream",
     "text": [
      "[I 2024-12-22 00:20:53,422] Trial 3 finished with value: 0.8579024569123579 and parameters: {'lr': 0.0006260927364463585}. Best is trial 3 with value: 0.8579024569123579.\n"
     ]
    },
    {
     "name": "stdout",
     "output_type": "stream",
     "text": [
      "\n",
      "Fold 1\n",
      "\n",
      "Training model: RESNET-50 on Fold 1\n",
      "\n",
      "Epoch 1/5 | Learning Rate: 0.000011\n"
     ]
    },
    {
     "name": "stderr",
     "output_type": "stream",
     "text": [
      "                                                           \r"
     ]
    },
    {
     "name": "stdout",
     "output_type": "stream",
     "text": [
      "Train Loss: 0.4650, Train Acc: 0.7742\n",
      "Val Loss: 0.6084, Val Acc: 0.6920\n",
      "\n",
      "Epoch 2/5 | Learning Rate: 0.000011\n"
     ]
    },
    {
     "name": "stderr",
     "output_type": "stream",
     "text": [
      "                                                           \r"
     ]
    },
    {
     "name": "stdout",
     "output_type": "stream",
     "text": [
      "Train Loss: 0.1886, Train Acc: 0.9323\n",
      "Val Loss: 0.6345, Val Acc: 0.7129\n",
      "\n",
      "Epoch 3/5 | Learning Rate: 0.000011\n"
     ]
    },
    {
     "name": "stderr",
     "output_type": "stream",
     "text": [
      "                                                           \r"
     ]
    },
    {
     "name": "stdout",
     "output_type": "stream",
     "text": [
      "Train Loss: 0.0666, Train Acc: 0.9837\n",
      "Val Loss: 0.5749, Val Acc: 0.7816\n",
      "\n",
      "Epoch 4/5 | Learning Rate: 0.000011\n"
     ]
    },
    {
     "name": "stderr",
     "output_type": "stream",
     "text": [
      "                                                           \r"
     ]
    },
    {
     "name": "stdout",
     "output_type": "stream",
     "text": [
      "Train Loss: 0.0283, Train Acc: 0.9958\n",
      "Val Loss: 0.5645, Val Acc: 0.7915\n",
      "\n",
      "Epoch 5/5 | Learning Rate: 0.000011\n"
     ]
    },
    {
     "name": "stderr",
     "output_type": "stream",
     "text": [
      "                                                           \r"
     ]
    },
    {
     "name": "stdout",
     "output_type": "stream",
     "text": [
      "Train Loss: 0.0167, Train Acc: 0.9983\n",
      "Val Loss: 0.4443, Val Acc: 0.8586\n"
     ]
    },
    {
     "name": "stderr",
     "output_type": "stream",
     "text": [
      "                                                           \r"
     ]
    },
    {
     "name": "stdout",
     "output_type": "stream",
     "text": [
      "\n",
      "Fold 2\n",
      "\n",
      "Training model: RESNET-50 on Fold 2\n",
      "\n",
      "Epoch 1/5 | Learning Rate: 0.000011\n"
     ]
    },
    {
     "name": "stderr",
     "output_type": "stream",
     "text": [
      "                                                           \r"
     ]
    },
    {
     "name": "stdout",
     "output_type": "stream",
     "text": [
      "Train Loss: 0.4745, Train Acc: 0.7689\n",
      "Val Loss: 0.5415, Val Acc: 0.6771\n",
      "\n",
      "Epoch 2/5 | Learning Rate: 0.000011\n"
     ]
    },
    {
     "name": "stderr",
     "output_type": "stream",
     "text": [
      "                                                           \r"
     ]
    },
    {
     "name": "stdout",
     "output_type": "stream",
     "text": [
      "Train Loss: 0.1910, Train Acc: 0.9283\n",
      "Val Loss: 0.5057, Val Acc: 0.7338\n",
      "\n",
      "Epoch 3/5 | Learning Rate: 0.000011\n"
     ]
    },
    {
     "name": "stderr",
     "output_type": "stream",
     "text": [
      "                                                           \r"
     ]
    },
    {
     "name": "stdout",
     "output_type": "stream",
     "text": [
      "Train Loss: 0.0675, Train Acc: 0.9807\n",
      "Val Loss: 0.4252, Val Acc: 0.8064\n",
      "\n",
      "Epoch 4/5 | Learning Rate: 0.000011\n"
     ]
    },
    {
     "name": "stderr",
     "output_type": "stream",
     "text": [
      "                                                           \r"
     ]
    },
    {
     "name": "stdout",
     "output_type": "stream",
     "text": [
      "Train Loss: 0.0365, Train Acc: 0.9903\n",
      "Val Loss: 0.6090, Val Acc: 0.7596\n",
      "\n",
      "Epoch 5/5 | Learning Rate: 0.000011\n"
     ]
    },
    {
     "name": "stderr",
     "output_type": "stream",
     "text": [
      "                                                           \r"
     ]
    },
    {
     "name": "stdout",
     "output_type": "stream",
     "text": [
      "Train Loss: 0.0188, Train Acc: 0.9963\n",
      "Val Loss: 0.5932, Val Acc: 0.7893\n"
     ]
    },
    {
     "name": "stderr",
     "output_type": "stream",
     "text": [
      "                                                           \r"
     ]
    },
    {
     "name": "stdout",
     "output_type": "stream",
     "text": [
      "\n",
      "Fold 3\n",
      "\n",
      "Training model: RESNET-50 on Fold 3\n",
      "\n",
      "Epoch 1/5 | Learning Rate: 0.000011\n"
     ]
    },
    {
     "name": "stderr",
     "output_type": "stream",
     "text": [
      "                                                           \r"
     ]
    },
    {
     "name": "stdout",
     "output_type": "stream",
     "text": [
      "Train Loss: 0.4601, Train Acc: 0.7784\n",
      "Val Loss: 0.4321, Val Acc: 0.7486\n",
      "\n",
      "Epoch 2/5 | Learning Rate: 0.000011\n"
     ]
    },
    {
     "name": "stderr",
     "output_type": "stream",
     "text": [
      "                                                           \r"
     ]
    },
    {
     "name": "stdout",
     "output_type": "stream",
     "text": [
      "Train Loss: 0.1821, Train Acc: 0.9270\n",
      "Val Loss: 0.5247, Val Acc: 0.7299\n",
      "\n",
      "Epoch 3/5 | Learning Rate: 0.000011\n"
     ]
    },
    {
     "name": "stderr",
     "output_type": "stream",
     "text": [
      "                                                           \r"
     ]
    },
    {
     "name": "stdout",
     "output_type": "stream",
     "text": [
      "Train Loss: 0.0691, Train Acc: 0.9784\n",
      "Val Loss: 0.5808, Val Acc: 0.7530\n",
      "\n",
      "Epoch 4/5 | Learning Rate: 0.000011\n"
     ]
    },
    {
     "name": "stderr",
     "output_type": "stream",
     "text": [
      "                                                           \r"
     ]
    },
    {
     "name": "stdout",
     "output_type": "stream",
     "text": [
      "Train Loss: 0.0284, Train Acc: 0.9943\n",
      "Val Loss: 0.6092, Val Acc: 0.7767\n",
      "\n",
      "Epoch 5/5 | Learning Rate: 0.000011\n"
     ]
    },
    {
     "name": "stderr",
     "output_type": "stream",
     "text": [
      "                                                           \r"
     ]
    },
    {
     "name": "stdout",
     "output_type": "stream",
     "text": [
      "Train Loss: 0.0203, Train Acc: 0.9954\n",
      "Val Loss: 0.6101, Val Acc: 0.8036\n"
     ]
    },
    {
     "name": "stderr",
     "output_type": "stream",
     "text": [
      "[I 2024-12-22 00:40:23,562] Trial 4 finished with value: 0.8171983865053173 and parameters: {'lr': 1.1460809720657681e-05}. Best is trial 3 with value: 0.8579024569123579.\n"
     ]
    },
    {
     "name": "stdout",
     "output_type": "stream",
     "text": [
      "\n",
      "Best Trial:\n",
      "  Value (Mean Validation Accuracy): 0.8579024569123579\n",
      "  Params: {'lr': 0.0006260927364463585}\n"
     ]
    }
   ],
   "source": [
    "study = optuna.create_study(direction=\"maximize\")\n",
    "study.optimize(LR_optimization, n_trials=5)\n",
    "\n",
    "best_trial = study.best_trial\n",
    "print(\"\\nBest Trial:\")\n",
    "print(f\"  Value (Mean Validation Accuracy): {best_trial.value}\")\n",
    "print(f\"  Params: {best_trial.params}\")"
   ]
  },
  {
   "cell_type": "markdown",
   "metadata": {},
   "source": [
    "# After the Optuna optimization process, we will use the best trial to set the learning rate"
   ]
  },
  {
   "cell_type": "code",
   "execution_count": 72,
   "metadata": {
    "execution": {
     "iopub.execute_input": "2024-12-22T00:40:40.053305Z",
     "iopub.status.busy": "2024-12-22T00:40:40.052984Z",
     "iopub.status.idle": "2024-12-22T00:40:40.057416Z",
     "shell.execute_reply": "2024-12-22T00:40:40.056371Z",
     "shell.execute_reply.started": "2024-12-22T00:40:40.053276Z"
    },
    "trusted": true
   },
   "outputs": [],
   "source": [
    "# Best learning rate from Optuna\n",
    "best_lr = 0.0006260927364463585"
   ]
  },
  {
   "cell_type": "code",
   "execution_count": 73,
   "metadata": {
    "execution": {
     "iopub.execute_input": "2024-12-22T00:40:46.269320Z",
     "iopub.status.busy": "2024-12-22T00:40:46.268685Z",
     "iopub.status.idle": "2024-12-22T00:52:09.402600Z",
     "shell.execute_reply": "2024-12-22T00:52:09.401695Z",
     "shell.execute_reply.started": "2024-12-22T00:40:46.269286Z"
    },
    "trusted": true
   },
   "outputs": [
    {
     "name": "stdout",
     "output_type": "stream",
     "text": [
      "\n",
      "Training model: RESNET-50 with best learning rate 0.0006260927364463585\n",
      "\n",
      "Epoch 1/10\n"
     ]
    },
    {
     "name": "stderr",
     "output_type": "stream",
     "text": [
      "                                                           \r"
     ]
    },
    {
     "name": "stdout",
     "output_type": "stream",
     "text": [
      "Train Loss: 0.3832, Train Acc: 0.8272\n",
      "\n",
      "Epoch 2/10\n"
     ]
    },
    {
     "name": "stderr",
     "output_type": "stream",
     "text": [
      "                                                           \r"
     ]
    },
    {
     "name": "stdout",
     "output_type": "stream",
     "text": [
      "Train Loss: 0.2064, Train Acc: 0.9173\n",
      "\n",
      "Epoch 3/10\n"
     ]
    },
    {
     "name": "stderr",
     "output_type": "stream",
     "text": [
      "                                                           \r"
     ]
    },
    {
     "name": "stdout",
     "output_type": "stream",
     "text": [
      "Train Loss: 0.1585, Train Acc: 0.9386\n",
      "\n",
      "Epoch 4/10\n"
     ]
    },
    {
     "name": "stderr",
     "output_type": "stream",
     "text": [
      "                                                           \r"
     ]
    },
    {
     "name": "stdout",
     "output_type": "stream",
     "text": [
      "Train Loss: 0.1211, Train Acc: 0.9545\n",
      "\n",
      "Epoch 5/10\n"
     ]
    },
    {
     "name": "stderr",
     "output_type": "stream",
     "text": [
      "                                                           \r"
     ]
    },
    {
     "name": "stdout",
     "output_type": "stream",
     "text": [
      "Train Loss: 0.0970, Train Acc: 0.9644\n",
      "\n",
      "Epoch 6/10\n"
     ]
    },
    {
     "name": "stderr",
     "output_type": "stream",
     "text": [
      "                                                           \r"
     ]
    },
    {
     "name": "stdout",
     "output_type": "stream",
     "text": [
      "Train Loss: 0.0852, Train Acc: 0.9674\n",
      "\n",
      "Epoch 7/10\n"
     ]
    },
    {
     "name": "stderr",
     "output_type": "stream",
     "text": [
      "                                                           \r"
     ]
    },
    {
     "name": "stdout",
     "output_type": "stream",
     "text": [
      "Train Loss: 0.1067, Train Acc: 0.9571\n",
      "\n",
      "Epoch 8/10\n"
     ]
    },
    {
     "name": "stderr",
     "output_type": "stream",
     "text": [
      "                                                           \r"
     ]
    },
    {
     "name": "stdout",
     "output_type": "stream",
     "text": [
      "Train Loss: 0.0696, Train Acc: 0.9763\n",
      "\n",
      "Epoch 9/10\n"
     ]
    },
    {
     "name": "stderr",
     "output_type": "stream",
     "text": [
      "                                                           \r"
     ]
    },
    {
     "name": "stdout",
     "output_type": "stream",
     "text": [
      "Train Loss: 0.0711, Train Acc: 0.9758\n",
      "\n",
      "Epoch 10/10\n"
     ]
    },
    {
     "name": "stderr",
     "output_type": "stream",
     "text": [
      "                                                           \r"
     ]
    },
    {
     "name": "stdout",
     "output_type": "stream",
     "text": [
      "Train Loss: 0.0465, Train Acc: 0.9813\n"
     ]
    },
    {
     "name": "stderr",
     "output_type": "stream",
     "text": [
      "                                                             "
     ]
    },
    {
     "name": "stdout",
     "output_type": "stream",
     "text": [
      "Test Loss: 0.2417, Test Acc: 0.9158\n",
      "\n",
      "Final Results:\n",
      "RESNET-50:\n",
      "  Test Loss: 0.2417\n",
      "  Test Accuracy: 0.9158\n"
     ]
    },
    {
     "name": "stderr",
     "output_type": "stream",
     "text": [
      "\r"
     ]
    }
   ],
   "source": [
    "final_results = {}\n",
    "\n",
    "for model_name in [\"resnet-50\"]:\n",
    "    print(f\"\\nTraining model: {model_name.upper()} with best learning rate {best_lr}\")\n",
    "    \n",
    "    # Initialize model\n",
    "    model = get_model(model_name).to(device)\n",
    "    criterion = nn.CrossEntropyLoss()\n",
    "    optimizer = optim.Adam(model.parameters(), lr=best_lr)\n",
    "    \n",
    "    # Create DataLoaders (assuming combinedData is split into train and test datasets)\n",
    "    train_loader = DataLoader(train_set, batch_size=32, shuffle=True)\n",
    "    test_loader = DataLoader(test_set, batch_size=32, shuffle=False)\n",
    "\n",
    "    # Train the model\n",
    "    for epoch in range(10):  # Example: 10 epochs\n",
    "        print(f\"\\nEpoch {epoch + 1}/10\")\n",
    "        \n",
    "        # Train and evaluate\n",
    "        train_loss, train_acc = TrainingModels(model, train_loader, criterion, optimizer)\n",
    "        print(f\"Train Loss: {train_loss:.4f}, Train Acc: {train_acc:.4f}\")\n",
    "    \n",
    "    # Final evaluation on the test set\n",
    "    test_loss, test_acc = evaluate(model, test_loader, criterion)\n",
    "    print(f\"Test Loss: {test_loss:.4f}, Test Acc: {test_acc:.4f}\")\n",
    "    \n",
    "    # Store results\n",
    "    final_results[model_name] = {\n",
    "        \"Test Loss\": test_loss,\n",
    "        \"Test Accuracy\": test_acc\n",
    "    }\n",
    "\n",
    "# Print final results\n",
    "print(\"\\nFinal Results:\")\n",
    "for model_name, metrics in final_results.items():\n",
    "    print(f\"{model_name.upper()}:\")\n",
    "    for metric, value in metrics.items():\n",
    "        print(f\"  {metric}: {value:.4f}\")"
   ]
  },
  {
   "cell_type": "code",
   "execution_count": 74,
   "metadata": {
    "execution": {
     "iopub.execute_input": "2024-12-22T01:18:12.395146Z",
     "iopub.status.busy": "2024-12-22T01:18:12.394718Z",
     "iopub.status.idle": "2024-12-22T01:52:23.970910Z",
     "shell.execute_reply": "2024-12-22T01:52:23.969950Z",
     "shell.execute_reply.started": "2024-12-22T01:18:12.395113Z"
    },
    "trusted": true
   },
   "outputs": [
    {
     "name": "stdout",
     "output_type": "stream",
     "text": [
      "\n",
      "Training model: RESNET-50 with best learning rate 0.0006260927364463585\n",
      "Fold 1\n",
      "Epoch 1/10, Loss: 0.3718\n",
      "Epoch 2/10, Loss: 0.2065\n",
      "Epoch 3/10, Loss: 0.1506\n",
      "Epoch 4/10, Loss: 0.1296\n",
      "Epoch 5/10, Loss: 0.1207\n",
      "Epoch 6/10, Loss: 0.0901\n",
      "Epoch 7/10, Loss: 0.0800\n",
      "Epoch 8/10, Loss: 0.0612\n",
      "Epoch 9/10, Loss: 0.0687\n",
      "Epoch 10/10, Loss: 0.0356\n",
      "Fold 1 - Accuracy: 0.9241, Precision: 0.9253, Recall: 0.9241, F1-Score: 0.9240\n",
      "Confusion Matrix:\n",
      "[[1777   87]\n",
      " [ 189 1582]]\n",
      "\n",
      "Fold 2\n"
     ]
    },
    {
     "name": "stderr",
     "output_type": "stream",
     "text": [
      "/opt/conda/lib/python3.10/site-packages/torchvision/models/_utils.py:208: UserWarning: The parameter 'pretrained' is deprecated since 0.13 and may be removed in the future, please use 'weights' instead.\n",
      "  warnings.warn(\n",
      "/opt/conda/lib/python3.10/site-packages/torchvision/models/_utils.py:223: UserWarning: Arguments other than a weight enum or `None` for 'weights' are deprecated since 0.13 and may be removed in the future. The current behavior is equivalent to passing `weights=ResNet50_Weights.IMAGENET1K_V1`. You can also use `weights=ResNet50_Weights.DEFAULT` to get the most up-to-date weights.\n",
      "  warnings.warn(msg)\n"
     ]
    },
    {
     "name": "stdout",
     "output_type": "stream",
     "text": [
      "Epoch 1/10, Loss: 0.3543\n",
      "Epoch 2/10, Loss: 0.2165\n",
      "Epoch 3/10, Loss: 0.1611\n",
      "Epoch 4/10, Loss: 0.1124\n",
      "Epoch 5/10, Loss: 0.0991\n",
      "Epoch 6/10, Loss: 0.0934\n",
      "Epoch 7/10, Loss: 0.0714\n",
      "Epoch 8/10, Loss: 0.0576\n",
      "Epoch 9/10, Loss: 0.0577\n",
      "Epoch 10/10, Loss: 0.0535\n",
      "Fold 2 - Accuracy: 0.8900, Precision: 0.9034, Recall: 0.8900, F1-Score: 0.8889\n",
      "Confusion Matrix:\n",
      "[[1801   33]\n",
      " [ 367 1434]]\n",
      "\n",
      "Fold 3\n"
     ]
    },
    {
     "name": "stderr",
     "output_type": "stream",
     "text": [
      "/opt/conda/lib/python3.10/site-packages/torchvision/models/_utils.py:208: UserWarning: The parameter 'pretrained' is deprecated since 0.13 and may be removed in the future, please use 'weights' instead.\n",
      "  warnings.warn(\n",
      "/opt/conda/lib/python3.10/site-packages/torchvision/models/_utils.py:223: UserWarning: Arguments other than a weight enum or `None` for 'weights' are deprecated since 0.13 and may be removed in the future. The current behavior is equivalent to passing `weights=ResNet50_Weights.IMAGENET1K_V1`. You can also use `weights=ResNet50_Weights.DEFAULT` to get the most up-to-date weights.\n",
      "  warnings.warn(msg)\n"
     ]
    },
    {
     "name": "stdout",
     "output_type": "stream",
     "text": [
      "Epoch 1/10, Loss: 0.3884\n",
      "Epoch 2/10, Loss: 0.2333\n",
      "Epoch 3/10, Loss: 0.1727\n",
      "Epoch 4/10, Loss: 0.1377\n",
      "Epoch 5/10, Loss: 0.1122\n",
      "Epoch 6/10, Loss: 0.0965\n",
      "Epoch 7/10, Loss: 0.0770\n",
      "Epoch 8/10, Loss: 0.0656\n",
      "Epoch 9/10, Loss: 0.0734\n",
      "Epoch 10/10, Loss: 0.0560\n",
      "Fold 3 - Accuracy: 0.9219, Precision: 0.9222, Recall: 0.9219, F1-Score: 0.9219\n",
      "Confusion Matrix:\n",
      "[[1676  118]\n",
      " [ 166 1675]]\n",
      "\n",
      "\n",
      "Final Results for RESNET-50:\n",
      "Average Accuracy: 0.9120\n",
      "Average Precision: 0.9170\n",
      "Average Recall: 0.9120\n",
      "Average F1-Score: 0.9116\n",
      "Average Confusion Matrix:\n",
      "[[1751.33333333   79.33333333]\n",
      " [ 240.66666667 1563.66666667]]\n"
     ]
    }
   ],
   "source": [
    "# Function to evaluate the model and get performance metrics\n",
    "def evaluate_model(model, dataloader):\n",
    "    model.eval()\n",
    "    all_preds = []\n",
    "    all_labels = []\n",
    "\n",
    "    with torch.no_grad():\n",
    "        for inputs, labels in dataloader:\n",
    "            inputs, labels = inputs.to(device), labels.to(device)\n",
    "            \n",
    "            outputs = model(inputs)\n",
    "            _, predicted = torch.max(outputs, 1)\n",
    "            \n",
    "            all_preds.extend(predicted.cpu().numpy())\n",
    "            all_labels.extend(labels.cpu().numpy())\n",
    "\n",
    "    return np.array(all_preds), np.array(all_labels)\n",
    "\n",
    "# Initialize cross-validation metrics storage\n",
    "confusion_matrices = []\n",
    "accuracies = []\n",
    "precisions = []\n",
    "recalls = []\n",
    "f1_scores = []\n",
    "\n",
    "best_lr = 0.0006260927364463585\n",
    "\n",
    "for model_name in [\"resnet-50\"]:\n",
    "    print(f\"\\nTraining model: {model_name.upper()} with best learning rate {best_lr}\")\n",
    "    \n",
    "    for fold_idx, (train_val_idx, test_idx) in enumerate(kf.split(np.arange(samples))):\n",
    "        print(f\"Fold {fold_idx + 1}\")\n",
    "\n",
    "        train_size = int(0.75 * len(train_val_idx))\n",
    "        train_idx = train_val_idx[:train_size]\n",
    "        val_idx = train_val_idx[train_size:]\n",
    "\n",
    "        train_set = Subset(combinedData, train_idx)\n",
    "        val_set = Subset(combinedData, val_idx)\n",
    "        test_set = Subset(combinedData, test_idx)\n",
    "\n",
    "        train_loader = DataLoader(train_set, batch_size=32, shuffle=True)\n",
    "        val_loader = DataLoader(val_set, batch_size=32, shuffle=False)\n",
    "        test_loader = DataLoader(test_set, batch_size=32, shuffle=False)\n",
    "        \n",
    "        \n",
    "        model = get_model(model_name).to(device)\n",
    "        optimizer = optim.Adam(model.parameters(), lr=best_lr)\n",
    "        criterion = nn.CrossEntropyLoss()\n",
    "\n",
    "        # Train the model\n",
    "        for epoch in range(10):\n",
    "            model.train()\n",
    "            running_loss = 0.0\n",
    "            for inputs, labels in train_loader:\n",
    "                inputs, labels = inputs.to(device), labels.to(device)\n",
    "                \n",
    "                optimizer.zero_grad()\n",
    "                outputs = model(inputs)\n",
    "                loss = criterion(outputs, labels)\n",
    "                loss.backward()\n",
    "                optimizer.step()\n",
    "                running_loss += loss.item()\n",
    "\n",
    "            print(f\"Epoch {epoch+1}/10, Loss: {running_loss / len(train_loader):.4f}\")\n",
    "\n",
    "    \n",
    "        preds, labels = evaluate_model(model, test_loader)\n",
    "\n",
    "        \n",
    "        accuracy = accuracy_score(labels, preds)\n",
    "        precision = precision_score(labels, preds, average='weighted', zero_division=0)\n",
    "        recall = recall_score(labels, preds, average='weighted', zero_division=0)\n",
    "        f1 = f1_score(labels, preds, average='weighted', zero_division=0)\n",
    "        cm = confusion_matrix(labels, preds)\n",
    "\n",
    "        # Store metrics for the fold\n",
    "        confusion_matrices.append(cm)\n",
    "        accuracies.append(accuracy)\n",
    "        precisions.append(precision)\n",
    "        recalls.append(recall)\n",
    "        f1_scores.append(f1)\n",
    "\n",
    "        print(f\"Fold {fold_idx + 1} - Accuracy: {accuracy:.4f}, Precision: {precision:.4f}, Recall: {recall:.4f}, F1-Score: {f1:.4f}\")\n",
    "        print(f\"Confusion Matrix:\\n{cm}\\n\")\n",
    "\n",
    "    # Average metrics across folds\n",
    "    avg_accuracy = np.mean(accuracies)\n",
    "    avg_precision = np.mean(precisions)\n",
    "    avg_recall = np.mean(recalls)\n",
    "    avg_f1_score = np.mean(f1_scores)\n",
    "    avg_confusion_matrix = np.mean(confusion_matrices, axis=0)\n",
    "\n",
    "    # Print final average metrics for the model\n",
    "    print(f\"\\nFinal Results for {model_name.upper()}:\")\n",
    "    print(f\"Average Accuracy: {avg_accuracy:.4f}\")\n",
    "    print(f\"Average Precision: {avg_precision:.4f}\")\n",
    "    print(f\"Average Recall: {avg_recall:.4f}\")\n",
    "    print(f\"Average F1-Score: {avg_f1_score:.4f}\")\n",
    "    print(f\"Average Confusion Matrix:\\n{avg_confusion_matrix}\")"
   ]
  },
  {
   "cell_type": "code",
   "execution_count": null,
   "metadata": {
    "trusted": true
   },
   "outputs": [],
   "source": []
  }
 ],
 "metadata": {
  "kaggle": {
   "accelerator": "nvidiaTeslaT4",
   "dataSources": [
    {
     "datasetId": 105271,
     "sourceId": 250645,
     "sourceType": "datasetVersion"
    },
    {
     "datasetId": 1909705,
     "sourceId": 3134515,
     "sourceType": "datasetVersion"
    }
   ],
   "dockerImageVersionId": 30787,
   "isGpuEnabled": true,
   "isInternetEnabled": true,
   "language": "python",
   "sourceType": "notebook"
  },
  "kernelspec": {
   "display_name": "Python 3",
   "language": "python",
   "name": "python3"
  },
  "language_info": {
   "codemirror_mode": {
    "name": "ipython",
    "version": 3
   },
   "file_extension": ".py",
   "mimetype": "text/x-python",
   "name": "python",
   "nbconvert_exporter": "python",
   "pygments_lexer": "ipython3",
   "version": "3.10.14"
  }
 },
 "nbformat": 4,
 "nbformat_minor": 4
}
